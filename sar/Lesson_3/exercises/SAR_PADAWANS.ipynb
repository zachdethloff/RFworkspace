{
 "cells": [
  {
   "cell_type": "markdown",
   "id": "7a795ef2-9d18-4419-ab77-4369d205a3d4",
   "metadata": {},
   "source": [
    "## 🟢 **SAR Padawans: Understanding Array Sampling and Beamforming**  🌱\n",
    "\n",
    "Let's revisit the **sampling of our array**, but now from the **receiving perspective**. Your goal is to **simulate an echo signal** for a phased array and apply **beamforming** to correctly identify the **azimuth angle of the target echo.**\n",
    "\n",
    "### **🔹 Task 1: Debug and Complete the Beamforming Code**  \n",
    "- Use the provided **beamforming code** and **fix any issues** in how the **phase shifts** are computed for each element.  \n",
    "- The final check: Ensure that **the target appears at the correct angle** in the output.  \n",
    "\n",
    "### **🔹 Task 2: Experiment with Undersampling and Angle Spacing**  \n",
    "- Increase the **element spacing** of your array to be **greater than the Nyquist limit**.  \n",
    "- What do you **observe**? Can you **explain** why? 🤔\n",
    "\n",
    "---"
   ]
  },
  {
   "cell_type": "code",
   "execution_count": null,
   "id": "b64f7616-4e3a-428c-9512-96707bfea893",
   "metadata": {},
   "outputs": [],
   "source": [
    "import matplotlib.pyplot as plt\n",
    "import numpy as np"
   ]
  },
  {
   "cell_type": "markdown",
   "id": "f1f7d9f6-0594-4508-aeb1-a72684aaeb9f",
   "metadata": {},
   "source": [
    "### Let's first define the simulation parameters"
   ]
  },
  {
   "cell_type": "code",
   "execution_count": null,
   "id": "2e8634cd-ffc8-4135-a07d-9281a2639c55",
   "metadata": {},
   "outputs": [],
   "source": [
    "# First simulate the element signals:\n",
    "number_of_elements = 10 # array elements\n",
    "wavelength = 0.03 # m\n",
    "target_angle_degrees = 10 # azimuth angle in degrees\n",
    "target_angle = np.radians(target_angle_degrees)\n",
    "target_amplitude = 1.0\n",
    "element_spacing = wavelength / 2 # adjust this value later"
   ]
  },
  {
   "cell_type": "markdown",
   "id": "5a16cfed-c9ee-4105-9669-78db4316b05c",
   "metadata": {},
   "source": [
    "### Here are some template functions to help you get started. Watch out for bugs! 🐛"
   ]
  },
  {
   "cell_type": "code",
   "execution_count": null,
   "id": "01edcaf3-98e1-49b6-90aa-c6df53edb572",
   "metadata": {},
   "outputs": [],
   "source": [
    "# Computes the received signal phasors for each antenna element from a target at given azimuth angle\n",
    "def compute_element_phasors(element_positions_x, wavelength, target_angle, target_amplitude):\n",
    "    \"\"\"\n",
    "    Compute the phasors for antenna array elements based on the waveront direction\n",
    "    \"\"\"\n",
    "    k = 2 * np.pi / wavelength # wavenumber\n",
    "    # Path length difference is element_position*sin(azimuth_angle)\n",
    "    element_path_length_difference = element_positions_x * np.sin(target_angle)\n",
    "    target_phasors = target_amplitude * np.exp(1j * k * element_path_length_difference)\n",
    "    return target_phasors\n",
    "\n",
    "# Function to combine the received element echoes into an angular profile\n",
    "def compute_beam_output(element_phasors, angle_min_degrees, angle_max_degrees, angle_step, positions, wavelength):\n",
    "    \"\"\"\n",
    "    Perform an angular scan using the received element signals, to obtain the received wave height vs. angle\n",
    "    \"\"\"\n",
    "    # FIX ME: calculate the beam angles\n",
    "    scan_angles = []  # Beamforming angles\n",
    "    beam_output = np.zeros((len(scan_angles),), dtype=np.complex64)\n",
    "\n",
    "    for i, scan_angle in enumerate(scan_angles):\n",
    "        # FIX ME: Calculate the correct phase shift for this azimuth scan angle. Hint: What is the path length difference between the elements?\n",
    "        scan_phase_shift = 2 * np.pi * wavelength / scan_angle\n",
    "        scan_phase_shifts = np.exp(-1j * scan_phase_shift) # Phase correction corresponding to this scan angle\n",
    "        beam_output[i] = np.sum(element_phasors * scan_phase_shifts) # apply phase correction and sum phasors together\n",
    "\n",
    "    # Convert beam output to magnitude for visualization\n",
    "    beam_output_magnitude = np.abs(beam_output)\n",
    "    beam_output_magnitude /= np.max(beam_output_magnitude)  # Normalize for visualization\n",
    "\n",
    "    return scan_angles, beam_output_magnitude    "
   ]
  },
  {
   "cell_type": "markdown",
   "id": "b1d6d64a-814a-453e-8a34-4766a1ed09b1",
   "metadata": {},
   "source": [
    "### Let's simulate the phasors for each antenna element"
   ]
  },
  {
   "cell_type": "code",
   "execution_count": null,
   "id": "c10dad3a-6ec4-4d62-9164-cbe1c1a1e133",
   "metadata": {},
   "outputs": [],
   "source": [
    "# x-position of each element\n",
    "element_positions_x = np.linspace(-(number_of_elements-1)/2 * element_spacing, (number_of_elements-1)/2 * element_spacing, number_of_elements)\n",
    "# simulate phasors representing the wave received by each element\n",
    "element_phasor_data = compute_element_phasors(element_positions_x, wavelength, target_angle, target_amplitude)"
   ]
  },
  {
   "cell_type": "markdown",
   "id": "d3effadd-1596-4d47-9744-26d2c74e3cab",
   "metadata": {},
   "source": [
    "### Now your task is to fix the beamforming calculations in `compute_beam_output()` 🐛🐞🦟"
   ]
  },
  {
   "cell_type": "code",
   "execution_count": null,
   "id": "e96328ab-cf49-4e1b-8698-ef59d53b3a9b",
   "metadata": {},
   "outputs": [],
   "source": [
    "# You can adjust the limits and the spacing of the scanned angle interval\n",
    "angle_min_deg = -60  # Minimum scan angle (degrees)\n",
    "angle_max_deg = 60   # Maximum scan angle (degrees)\n",
    "angle_step = 1   # Angle spacing (degrees)\n",
    "scan_angles, beam_output = compute_beam_output(element_phasor_data, angle_min_deg, angle_max_deg, angle_step, element_positions_x, wavelength)"
   ]
  },
  {
   "cell_type": "markdown",
   "id": "8481f984-af8f-4580-a4cc-6002c63f4c55",
   "metadata": {},
   "source": [
    "### Then plot the results 📈"
   ]
  },
  {
   "cell_type": "code",
   "execution_count": null,
   "id": "25988cc0-9c62-4e7c-8e88-077d923ac311",
   "metadata": {},
   "outputs": [],
   "source": [
    "# Create a single figure with one subplot\n",
    "fig, ax_beam = plt.subplots(figsize=(8, 5))\n",
    "# Plot the beamforming response\n",
    "ax_beam.plot(np.degrees(scan_angles), beam_output, 'k-', label=\"Beam Response\")\n",
    "ax_beam.axvline(target_angle_degrees, color='r', linestyle='--', label=f\"Target ({target_angle_degrees:.1f}°)\")\n",
    "# Labels and formatting\n",
    "ax_beam.set_xlabel(\"Azimuth angle (degrees)\")\n",
    "ax_beam.set_ylabel(\"Beamforming Response Magnitude\")\n",
    "ax_beam.set_title(\"Beamforming Output\")\n",
    "ax_beam.legend()\n",
    "ax_beam.grid(True)\n",
    "plt.show()"
   ]
  },
  {
   "cell_type": "markdown",
   "id": "ade1ecea-2e7a-4bf5-9d53-04a9799ff430",
   "metadata": {},
   "source": [
    "### Once your beamforming code works, start experimenting with the element spacing. What do you observe when the spacing is larger than half a wavelength?"
   ]
  },
  {
   "cell_type": "code",
   "execution_count": null,
   "id": "6890cdb8-96b6-4c52-af5b-d5ccb0988e1d",
   "metadata": {},
   "outputs": [],
   "source": []
  }
 ],
 "metadata": {
  "kernelspec": {
   "display_name": "Python 3 (ipykernel)",
   "language": "python",
   "name": "python3"
  },
  "language_info": {
   "codemirror_mode": {
    "name": "ipython",
    "version": 3
   },
   "file_extension": ".py",
   "mimetype": "text/x-python",
   "name": "python",
   "nbconvert_exporter": "python",
   "pygments_lexer": "ipython3",
   "version": "3.12.7"
  }
 },
 "nbformat": 4,
 "nbformat_minor": 5
}
