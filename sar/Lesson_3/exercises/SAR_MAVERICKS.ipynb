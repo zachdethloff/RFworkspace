{
 "cells": [
  {
   "cell_type": "markdown",
   "id": "a5026201-fe63-4a71-a1c6-f2509f370070",
   "metadata": {},
   "source": [
    "## 🔵 **SAR Mavericks: Decoding a Hidden Message with Radar Imaging**  🚀 \n",
    "\n",
    "We have carefully arranged **metal spheres on the ground** to encode an **important secret message**. Our linear array has transmitted a **pulse**, and each **antenna element** has recorded the echoes. 📡 Your task is to **load the recorded data** and process it into a **2D range-azimuth map** of the ground and uncover the hidden message! 🕵️‍♀️\n",
    "\n",
    "---\n",
    "\n",
    "### **🔹 Your mission, should you choose to accept it:** 💣\n",
    "1. **Load the radar data** recorded in **`data/beam_data.npz`**. 📂\n",
    "2. Modify the code so that the **angle step** in your beamforming output is determined based on the **angular resolution** of the array.\n",
    "3. **Apply beamforming** to generate a **2D radar image** in **range and azimuth angle**.\n",
    "4. If your implementation is correct, the radar image will **reveal the hidden message!** 🏆  \n",
    "\n",
    "🔍 **Hints:**  \n",
    "- The **phased-array data** needs to be processed correctly to focus the beam to different **azimuth angles**. 🔦 You'll need to **repeat the beamforming process** of the Padawan exercise for a number of different **range bins** 🗑️ in the data. \n",
    "- You can use the completed **`compute_beam_output()`** code below\n",
    "\n",
    "Good luck, radar detective! 🧑‍🚀📡  "
   ]
  },
  {
   "cell_type": "code",
   "execution_count": null,
   "id": "0797b6e0-c7e7-481f-aa82-2981139e8ba3",
   "metadata": {},
   "outputs": [],
   "source": [
    "import matplotlib.pyplot as plt\n",
    "import numpy as np\n",
    "from pathlib import Path"
   ]
  },
  {
   "cell_type": "markdown",
   "id": "c5c37e0a-3dcd-473a-8994-665b94f5c336",
   "metadata": {},
   "source": [
    "### First let's load in the data. We provide you with all relevant radar parameters needed to focus the data 📷"
   ]
  },
  {
   "cell_type": "code",
   "execution_count": null,
   "id": "8d334348-fa03-43d7-8293-f32819489d55",
   "metadata": {},
   "outputs": [],
   "source": [
    "# Load the simulate radar data\n",
    "data_relative_path = Path(\"../data/beam_data.npz\")\n",
    "data_path = data_relative_path.resolve()\n",
    "loaded_data = np.load(data_path)\n",
    "ranges = loaded_data[\"ranges\"] # Range axis of our data\n",
    "# The element echoes are stored in an array, each row represents the signal received by one element as a function of time delay (range)\n",
    "element_echoes = loaded_data[\"element_echoes\"]\n",
    "wavelength = loaded_data[\"wavelength\"] # wavelength in m\n",
    "array_element_pos_xy = loaded_data[\"array_elements_xy\"] # first row is element x positions, second row element y positions\n",
    "num_elements = array_element_pos_xy.shape[1] # number of elements in the data"
   ]
  },
  {
   "cell_type": "code",
   "execution_count": null,
   "id": "23ebc722-6d33-4de0-af66-ff886ef76d3f",
   "metadata": {},
   "outputs": [],
   "source": [
    "# Function to combine the received element echoes into an angular profile\n",
    "def compute_beam_output(element_phasors, scan_angles_rad, positions, wavelength):\n",
    "    \"\"\"\n",
    "    Perform an angular scan using the received element signals, to obtain the received wave height vs. angle\n",
    "    \"\"\"\n",
    "    beam_output = np.zeros((len(scan_angles_rad),), dtype=np.complex64)\n",
    "\n",
    "    for i, scan_angle in enumerate(scan_angles_rad):\n",
    "        # Element phase shifts\n",
    "        scan_phase_shift = 2 * np.pi * positions * np.sin(scan_angles_rad[i]) / wavelength\n",
    "        scan_phase_shifts = np.exp(-1j * scan_phase_shift) # Phase correction corresponding to this scan angle\n",
    "        beam_output[i] = np.sum(element_phasors * scan_phase_shifts) # apply phase correction and sum phasors together\n",
    "\n",
    "    return scan_angles_rad, beam_output"
   ]
  },
  {
   "cell_type": "markdown",
   "id": "a5e78f3f-5c93-47dd-8908-70b67af70c29",
   "metadata": {},
   "source": [
    "### Let's first plot the echoes received by each element. We have many echoes overlapping, and no clear message is visible! To obtain a focused image, you need to apply beamforming in azimuth! 📡"
   ]
  },
  {
   "cell_type": "code",
   "execution_count": null,
   "id": "1a149916-f081-467b-8dcc-2292b7eaef64",
   "metadata": {},
   "outputs": [],
   "source": [
    "# Each row corresponds to the echo received by one antenna element\n",
    "plt.figure(figsize=(10, 6))\n",
    "extent = [ranges[0], ranges[-1], 0, num_elements]  # Time mapped to range\n",
    "plt.imshow(np.abs(element_echoes), aspect='auto', extent=extent, cmap='jet', origin='lower')\n",
    "plt.colorbar(label=\"Amplitude\")\n",
    "plt.xlabel(\"Range (m)\")\n",
    "plt.ylabel(\"Element #\")\n",
    "plt.title(\"Received signal amplitude per element\")\n",
    "plt.show()"
   ]
  },
  {
   "cell_type": "markdown",
   "id": "54bdded2-3b91-4f41-bb7f-7d5c461e56ba",
   "metadata": {},
   "source": [
    "### Now it's your task to loop through each range bin and apply beamforming to focus the data! 🔍\n",
    "\n",
    "### But first, you need to calculate the azimuth angles of your beamformer. How should we select the **angle spacing** to ensure we meet the **Nyquist criterion**? 📐"
   ]
  },
  {
   "cell_type": "code",
   "execution_count": null,
   "id": "4001af16-e7e7-499b-91e8-f3034d2c3e46",
   "metadata": {},
   "outputs": [],
   "source": [
    "# Let's first define the azimuth angle limits of the image\n",
    "angle_min_deg = -50  # Minimum scan angle (degrees)\n",
    "angle_max_deg = 50   # Maximum scan angle (degrees)\n",
    "\n",
    "# Determine azimuth angle spacings and the scan angles for the beamforming\n",
    "element_positions_x = array_element_pos_xy[0,:]\n",
    "# FIX ME: Calculate the width of the array\n",
    "array_size = 0.0 # Width of the array (m)\n",
    "angle_resolution = wavelength / array_size # Approximate formula for azimuth angle resolution in radians\n",
    "# FIX ME: Calculate the angle step based on the resolution\n",
    "angle_step_deg = 1.0  # Angle spacing (degrees). You can oversample by a factor of 2-4 to get a nice looking image\n",
    "\n",
    "number_of_angles = int( np.round((angle_max_deg - angle_min_deg) / angle_step_deg) ) # number of azimuth angle pixels in our image\n",
    "number_of_ranges = len(ranges) # number of range samples in the data and in our image\n",
    "scan_angles_radians = np.linspace( np.radians(angle_min_deg), np.radians(angle_max_deg), number_of_angles ) # azimuth angles"
   ]
  },
  {
   "cell_type": "markdown",
   "id": "2706999e-f86c-449d-a8af-62040de7dfe6",
   "metadata": {},
   "source": [
    "### Now your task is to loop through each range line and apply beamforming! 🔦"
   ]
  },
  {
   "cell_type": "code",
   "execution_count": null,
   "id": "f756a524-3505-46b5-87a7-e2d4fcf1120c",
   "metadata": {},
   "outputs": [],
   "source": [
    "# Prepare empty image array\n",
    "radar_image_2d = np.zeros((number_of_angles, number_of_ranges), dtype=np.complex64)\n",
    "\n",
    "# Complete the for loop to obtain your first radar image!\n",
    "# for i in range(number_of_ranges):\n",
    "    "
   ]
  },
  {
   "cell_type": "markdown",
   "id": "254dc77e-1548-44dd-984e-f501b054cbba",
   "metadata": {},
   "source": [
    "### Then plot your image and post [here](https://padlet.com/vehmasristo/sart-gallery-5bm5ykv0ej1uw6gg) for all the world to see! 🌟 "
   ]
  },
  {
   "cell_type": "code",
   "execution_count": null,
   "id": "66f9b821-e5a0-44ef-8f7f-1ee70e1fb2f0",
   "metadata": {},
   "outputs": [],
   "source": [
    "## Now let's plot the image to uncover the secret message!\n",
    "plt.figure(figsize=(10, 6))\n",
    "extent = [ranges[0], ranges[-1], angle_min_deg, angle_max_deg]  # Time mapped to range\n",
    "plt.imshow(10*np.log10(np.abs(radar_image_2d)), aspect='auto', extent=extent, cmap='jet', origin='lower')\n",
    "plt.colorbar(label=\"Normalized Intensity (dB)\")\n",
    "plt.xlabel(\"Range (m)\")\n",
    "plt.ylabel(\"Azimuth angle (deg)\")\n",
    "plt.title(\"Range-azimuth image\")\n",
    "plt.show()"
   ]
  }
 ],
 "metadata": {
  "kernelspec": {
   "display_name": "Python 3 (ipykernel)",
   "language": "python",
   "name": "python3"
  },
  "language_info": {
   "codemirror_mode": {
    "name": "ipython",
    "version": 3
   },
   "file_extension": ".py",
   "mimetype": "text/x-python",
   "name": "python",
   "nbconvert_exporter": "python",
   "pygments_lexer": "ipython3",
   "version": "3.12.7"
  }
 },
 "nbformat": 4,
 "nbformat_minor": 5
}
