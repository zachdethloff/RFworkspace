{
 "cells": [
  {
   "cell_type": "markdown",
   "id": "58724165-d874-4423-8234-70efcba3ce45",
   "metadata": {},
   "source": [
    "## 🔴 **SAR Wizards: Unleash your radar magic** 🧙‍♂️✨  \n",
    "\n",
    "You've been working so hard in the previous exercises—now it's time to have some simulation fun! 🚀  \n",
    "\n",
    "---\n",
    "\n",
    "### **🔹 Task 1: Simulate Any Targets You Want**  \n",
    "\n",
    "We’ve provided code to **simulate echo signals** for a **phased array system**. Your job? **Choose your own target locations** and see how they appear in radar images!  \n",
    "\n",
    "🔧 **How it works:**  \n",
    "- Define your targets in **(x, y) coordinates**.  \n",
    "- The simulation will generate the **echo signals** for your chosen targets.  \n",
    "- Use the **beamforming code** you completed in the Maverick exercise to process the **range-azimuth radar images**.  \n",
    "- Experiment with **different target configurations** and see how they affect the image!  \n",
    "\n",
    "🎯 Can you arrange targets to create a recognizable shape? Take into account that the **native radar coordinates are range and azimuth (i.e., polar coordinates)**, whereas you are defining the targets in Cartesian coordinates.\n",
    "\n",
    "---\n",
    "\n",
    "### **🔹 Task 2: Identify an Approximation in the Simulation**  \n",
    "\n",
    "If you’re a **true SAR Wizard**, you might have already sensed that **something isn't quite right** in our phased array simulation.  \n",
    "\n",
    "🕵️ **Investigate `generate_target_echoes()`** – we took a bit of a **shortcut** and used a **simplifying approximation** to make things easier.  \n",
    "\n",
    "🔍 **Your mission:**  \n",
    "1. **Find the approximation.** What assumption(s) did we make?  \n",
    "2. **Analyze its limitations.** When does it hold, and when does it break down?  \n",
    "\n",
    "---"
   ]
  },
  {
   "cell_type": "code",
   "execution_count": null,
   "id": "f0e031c4-5ad5-4b96-a228-71be092b4b2e",
   "metadata": {},
   "outputs": [],
   "source": [
    "import numpy as np\n",
    "import matplotlib.pyplot as plt\n",
    "\n",
    "# Constants\n",
    "c = 299792458  # Speed of light (m/s)"
   ]
  },
  {
   "cell_type": "code",
   "execution_count": null,
   "id": "e20c753f-9335-432f-90a4-7cff6a18fa85",
   "metadata": {},
   "outputs": [],
   "source": [
    "# Function to simulate target echoes in range for a number of array elements\n",
    "def generate_target_echoes(pulse_duration, target_ranges, target_az_angles, sampling_rate, total_time, amplitudes, wavelength, array_size):\n",
    "    \"\"\"\n",
    "    Simulates the received radar pulses for each element in an antenna array, \n",
    "    incorporating both range delays and phase shifts due to angle.\n",
    "    \"\"\"\n",
    "    num_samples = int(total_time * sampling_rate)\n",
    "    t = np.linspace(0, total_time, num_samples, endpoint=False)\n",
    "    k = 2 * np.pi / wavelength\n",
    "    \n",
    "    # Define the antenna array element positions (Uniform Linear Array)\n",
    "    d = wavelength / 2  # Element spacing (half-wavelength spacing)\n",
    "    positions = np.linspace(-(array_size-1)/2 * d, (array_size-1)/2 * d, array_size)\n",
    "\n",
    "    # Initialize signal array (each row is an antenna element)\n",
    "    received_signals = np.zeros((array_size, num_samples), dtype=np.complex64)\n",
    "\n",
    "    for i, (target_range, target_angle) in enumerate(zip(target_ranges, target_az_angles)):\n",
    "        # Compute time delay for round-trip echo\n",
    "        round_trip_time = 2 * target_range / c  # Time delay for the pulse to reach & return\n",
    "\n",
    "        # Compute index range for pulse in time vector\n",
    "        pulse_start_idx = int(round_trip_time * sampling_rate)\n",
    "        pulse_end_idx = pulse_start_idx + int(pulse_duration * sampling_rate)\n",
    "\n",
    "        # Compute phase shift for each array element\n",
    "        target_phasor = np.exp(1j * 2 * np.pi * 2 * target_range / wavelength)  # Phase from range\n",
    "        phase_shifts = np.exp(1j * k * positions * np.sin(target_angle))  # Phase shift per array element due to target angle\n",
    "        \n",
    "        # Ensure pulse fits within signal array\n",
    "        if pulse_end_idx < num_samples:\n",
    "            pulse = np.ones(pulse_end_idx - pulse_start_idx)  # Simple rectangular pulse\n",
    "            \n",
    "            # Apply phase shifts for each antenna element and target phase due to range\n",
    "            for e in range(array_size):\n",
    "                received_signals[e, pulse_start_idx:pulse_end_idx] += (\n",
    "                    pulse * amplitudes[i] * target_phasor * phase_shifts[e]\n",
    "                )\n",
    "\n",
    "    return t, received_signals"
   ]
  },
  {
   "cell_type": "code",
   "execution_count": null,
   "id": "7fa48e31-bca4-49c1-aa81-da79769d2052",
   "metadata": {},
   "outputs": [],
   "source": [
    "# Function to combine the received element echoes into an angular profile\n",
    "def compute_beam_output(element_phasors, scan_angles_rad, positions, wavelength):\n",
    "    \"\"\"\n",
    "    Perform an angular scan using the received element signals, to obtain the received wave height vs. angle\n",
    "    \"\"\"\n",
    "    beam_output = np.zeros((len(scan_angles_rad),), dtype=np.complex64)\n",
    "\n",
    "    for i, scan_angle in enumerate(scan_angles_rad):\n",
    "        # Element phase shifts\n",
    "        scan_phase_shift = 2 * np.pi * positions * np.sin(scan_angles_rad[i]) / wavelength\n",
    "        scan_phase_shifts = np.exp(-1j * scan_phase_shift) # Phase correction corresponding to this scan angle\n",
    "        beam_output[i] = np.sum(element_phasors * scan_phase_shifts) # apply phase correction and sum phasors together\n",
    "\n",
    "    return scan_angles_rad, beam_output"
   ]
  },
  {
   "cell_type": "markdown",
   "id": "9aa44ea5-4a2a-40de-b9dd-491b0c1c8d96",
   "metadata": {},
   "source": [
    "### Now it's time to define the simulation parameters! Feel free to adjust these as you wish! 🔬 "
   ]
  },
  {
   "cell_type": "code",
   "execution_count": null,
   "id": "add0c75b-26e3-4b6f-a264-323f3793c96c",
   "metadata": {},
   "outputs": [],
   "source": [
    "# User-defined parameters\n",
    "range_resolution = 40  # m\n",
    "pulse_duration = 2 * range_resolution / c  # pulse duration (s)\n",
    "sampling_rate = 5 / pulse_duration  # 5 samples per pulse\n",
    "wavelength = 0.03  # Radar wavelength (3 cm)\n",
    "number_of_elements = 50  # Number of antenna elements"
   ]
  },
  {
   "cell_type": "markdown",
   "id": "4c950937-04c3-48c2-afec-daf525074ce1",
   "metadata": {},
   "source": [
    "### Generate your own values for the target (x,y)-coordinates! 🧪"
   ]
  },
  {
   "cell_type": "code",
   "execution_count": null,
   "id": "3b72cf1b-2827-4fa6-beba-d908005b885f",
   "metadata": {},
   "outputs": [],
   "source": [
    "# Generate target positions, assuming the radar is at the origin\n",
    "x_targets = np.array([100, -100]) # x-axis is along the array dimension\n",
    "y_targets = np.array([1000,1500]) # y-axis is perpendicular to the array\n",
    "\n",
    "# Plot the target locations\n",
    "fig, ax = plt.subplots(figsize=(8, 6))\n",
    "ax.scatter(x_targets, y_targets, color='red', s=50, marker=\"o\", label=\"Targets\")\n",
    "ax.scatter(0, 0, color='black', marker='x', s=100, label=\"Radar Position\")  # Radar at origin\n",
    "\n",
    "# Formatting\n",
    "ax.set_xlabel(\"X Position (m)\")\n",
    "ax.set_ylabel(\"Y Position (m)\")\n",
    "ax.set_title(\"Target Distribution\")\n",
    "ax.legend()\n",
    "ax.grid(True, linestyle=\"--\", linewidth=0.5)"
   ]
  },
  {
   "cell_type": "markdown",
   "id": "7f757acc-91a7-4ee5-85c3-72c9ca52e557",
   "metadata": {},
   "source": [
    "### Then we calculate target range and azimuth and simulate the echoes 🌊"
   ]
  },
  {
   "cell_type": "code",
   "execution_count": null,
   "id": "20de725c-781e-4b36-9d40-8dfbb2bb3fd5",
   "metadata": {},
   "outputs": [],
   "source": [
    "# Calculate target ranges and angles based on their (x,y) locations\n",
    "target_ranges = []\n",
    "target_angles = []\n",
    "for i in range(len(x_targets)):\n",
    "    range_tgt = np.sqrt(x_targets[i]**2 + y_targets[i]**2)\n",
    "    angle_tgt = np.arctan2(x_targets[i], y_targets[i])\n",
    "    target_ranges.append(range_tgt)\n",
    "    target_angles.append(angle_tgt)\n",
    "\n",
    "# Define recording window length based on target ranges\n",
    "max_range = np.max(target_ranges)\n",
    "total_time = 2 * max_range / c + 2 * pulse_duration  # Ensure enough time for full echoes from each target\n",
    "target_amplitudes = np.ones_like(target_ranges) # unit amplitude for all targets\n",
    "\n",
    "# Simulate the target echoes\n",
    "t, received_signals = generate_target_echoes(\n",
    "    pulse_duration, target_ranges, target_angles, sampling_rate, total_time, target_amplitudes, wavelength, number_of_elements\n",
    ")\n"
   ]
  },
  {
   "cell_type": "markdown",
   "id": "40d8b4f9-2fe3-4531-8678-db7bfa28012b",
   "metadata": {},
   "source": [
    "### Let's plot the simulated echo data per element"
   ]
  },
  {
   "cell_type": "code",
   "execution_count": null,
   "id": "22b04cea-c741-45f7-a9b8-f5e4632aee95",
   "metadata": {},
   "outputs": [],
   "source": [
    "plt.figure(figsize=(10, 6))\n",
    "extent = [0, total_time * c / 2, 0, number_of_elements]  # Time mapped to range\n",
    "plt.imshow(np.abs(received_signals), aspect='auto', extent=extent, cmap='jet', origin='lower')\n",
    "plt.colorbar(label=\"Normalized Intensity\")\n",
    "plt.xlabel(\"Range (m)\")\n",
    "plt.ylabel(\"Element #\")\n",
    "plt.title(\"Received signal per element\")\n",
    "plt.show()"
   ]
  },
  {
   "cell_type": "markdown",
   "id": "00d4271a-c3f2-405f-ae0c-98ae8811d512",
   "metadata": {},
   "source": [
    "### Then we define our image azimuth axis (scan angles)"
   ]
  },
  {
   "cell_type": "code",
   "execution_count": null,
   "id": "a12cfaaa-c0a4-478c-ab0c-bf9fa7090cc5",
   "metadata": {},
   "outputs": [],
   "source": [
    "# Compute beamformed response\n",
    "d = wavelength / 2\n",
    "element_positions_x = np.linspace(-(number_of_elements-1)/2 * d, (number_of_elements-1)/2 * d, number_of_elements)\n",
    "\n",
    "# Let's first prepare the azimuth angle axis of the image\n",
    "angle_min_deg = -50  # Minimum scan angle (degrees)\n",
    "angle_max_deg = 50   # Maximum scan angle (degrees)\n",
    "\n",
    "# Determine azimuth angle spacings and the scan angles for the beamforming\n",
    "# Calculate the width of the array\n",
    "array_size = (number_of_elements-1) * d # Width of the array (m)\n",
    "angle_resolution = wavelength / array_size # Approximate formula for angle resolution in radians\n",
    "# Calculate the angle step based on the resolution\n",
    "angle_step_deg = angle_resolution / 4  # Angle spacing (degrees), let's oversample by a factor of 2-4 to get a nice image\n",
    "number_of_angles = int( np.round((angle_max_deg - angle_min_deg) / angle_step_deg) ) # number of azimuth angle pixels in our image\n",
    "number_of_ranges = len(t) # number of range samples in the data and in our image\n",
    "ranges = c * t / 2 # range axis\n",
    "scan_angles_radians = np.linspace( np.radians(angle_min_deg), np.radians(angle_max_deg), number_of_angles ) # azimuth angles"
   ]
  },
  {
   "cell_type": "markdown",
   "id": "101a29fb-95f0-4e80-b92d-96c928774c58",
   "metadata": {},
   "source": [
    "### Now it's time to apply your beamforming code! Reuse your code from the Maverick exercise! 🚀"
   ]
  },
  {
   "cell_type": "code",
   "execution_count": null,
   "id": "f1b86bdd-63ec-4e2d-9c17-94da9426bed1",
   "metadata": {},
   "outputs": [],
   "source": [
    "# Prepare empty image array\n",
    "radar_image_2d = np.zeros((number_of_angles, number_of_ranges), dtype=np.complex64)\n",
    "\n",
    "# Complete the for loop to obtain your first radar image!\n",
    "# for i in range(number_of_ranges):\n",
    "\n",
    "## And plot the image\n",
    "plt.figure(figsize=(10, 6))\n",
    "extent = [ranges[0], ranges[-1], angle_min_deg, angle_max_deg]  # Time mapped to range\n",
    "plt.imshow(10*np.log10(np.abs(radar_image_2d)), aspect='auto', extent=extent, cmap='jet', origin='lower')\n",
    "plt.colorbar(label=\"Normalized Intensity (dB)\")\n",
    "plt.xlabel(\"Range (m)\")\n",
    "plt.ylabel(\"Azimuth angle (deg)\")\n",
    "plt.title(\"Range-azimuth image\")\n",
    "plt.show()"
   ]
  },
  {
   "cell_type": "markdown",
   "id": "a4496063-200d-4838-83a3-0690aa0916a5",
   "metadata": {},
   "source": [
    "### Now it's time to analyze the simulation code? What shortcuts are we taking? 🤔"
   ]
  },
  {
   "cell_type": "code",
   "execution_count": null,
   "id": "3ced2009-72ed-463c-ad63-ff6e726b81a9",
   "metadata": {},
   "outputs": [],
   "source": []
  }
 ],
 "metadata": {
  "kernelspec": {
   "display_name": "Python 3 (ipykernel)",
   "language": "python",
   "name": "python3"
  },
  "language_info": {
   "codemirror_mode": {
    "name": "ipython",
    "version": 3
   },
   "file_extension": ".py",
   "mimetype": "text/x-python",
   "name": "python",
   "nbconvert_exporter": "python",
   "pygments_lexer": "ipython3",
   "version": "3.12.7"
  }
 },
 "nbformat": 4,
 "nbformat_minor": 5
}
